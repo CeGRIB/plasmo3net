{
 "cells": [
  {
   "cell_type": "markdown",
   "id": "75d9a175",
   "metadata": {},
   "source": [
    "# RBC Segmentation"
   ]
  },
  {
   "cell_type": "markdown",
   "id": "6858e13a",
   "metadata": {},
   "source": [
    "This script is designed to perform advanced image segmentation on whole microscope slide images, specifically targeting red blood cells (RBCs). The primary objectives of the script include:\n",
    "\n",
    "**1. Segmentation of RBCs:** Utilizing image processing techniques, the script identifies and segments RBCs from the complex background of microscope slide images. This is achieved through various algorithms that enhance the visibility of cellular structures.\n",
    "\n",
    "**2. Background Removal:** Once the RBCs are segmented, the script effectively removes the background, isolating the cells for further analysis. This step is crucial for improving the accuracy of subsequent image processing tasks.\n",
    "\n",
    "**3. Edge Detection:** To enhance the features of the segmented RBCs, the script implements the **Sobel** edge detection algorithm. This technique highlights the edges of the cells, making it easier to analyze their morphology and structure."
   ]
  },
  {
   "cell_type": "code",
   "execution_count": 1,
   "id": "1d667782",
   "metadata": {},
   "outputs": [],
   "source": [
    "#import libraries\n",
    "import cv2\n",
    "import numpy as np\n",
    "from skimage import measure\n",
    "import os"
   ]
  },
  {
   "cell_type": "code",
   "execution_count": 6,
   "id": "7d91c09e",
   "metadata": {},
   "outputs": [
    {
     "name": "stdout",
     "output_type": "stream",
     "text": [
      "924 red blood cell images saved.\n"
     ]
    }
   ],
   "source": [
    "# Load the image\n",
    "image = cv2.imread('1701151546-0007-R.jpg')\n",
    "\n",
    "# Convert the image to grayscale\n",
    "gray = cv2.cvtColor(image, cv2.COLOR_BGR2GRAY)\n",
    "\n",
    "# Apply thresholding to segment the red blood cells\n",
    "_, thresh = cv2.threshold(gray, 0, 255, cv2.THRESH_BINARY_INV + cv2.THRESH_OTSU)\n",
    "\n",
    "# Find the contours of the segmented red blood cells\n",
    "contours, _ = cv2.findContours(thresh, cv2.RETR_EXTERNAL, cv2.CHAIN_APPROX_SIMPLE)\n",
    "\n",
    "# Create a directory to save the individual red blood cell images\n",
    "if not os.path.exists('blood2'):\n",
    "    os.makedirs('blood2')\n",
    "\n",
    "# Save each red blood cell as a separate image file\n",
    "for i, contour in enumerate(contours):\n",
    "    x, y, w, h = cv2.boundingRect(contour)\n",
    "    cell_image = image[y:y+h, x:x+w]\n",
    "    cv2.imwrite(f'blood2/cell2_{i+1}.png', cell_image)\n",
    "\n",
    "print(f\"{len(contours)} red blood cell images saved.\")"
   ]
  },
  {
   "cell_type": "code",
   "execution_count": null,
   "id": "ca7b5f14",
   "metadata": {},
   "outputs": [],
   "source": []
  },
  {
   "cell_type": "code",
   "execution_count": 4,
   "id": "edc00ae3",
   "metadata": {},
   "outputs": [
    {
     "name": "stdout",
     "output_type": "stream",
     "text": [
      "1917 unique red blood cell images saved.\n"
     ]
    }
   ],
   "source": [
    "# Load the image\n",
    "image = cv2.imread('1704282807-0005-R.jpg')\n",
    "\n",
    "# Convert the image to grayscale\n",
    "gray = cv2.cvtColor(image, cv2.COLOR_BGR2GRAY)\n",
    "\n",
    "# Apply thresholding to segment the red blood cells\n",
    "_, thresh = cv2.threshold(gray, 0, 255, cv2.THRESH_BINARY_INV + cv2.THRESH_OTSU)\n",
    "\n",
    "# Find the contours of the segmented red blood cells\n",
    "contours, _ = cv2.findContours(thresh, cv2.RETR_EXTERNAL, cv2.CHAIN_APPROX_SIMPLE)\n",
    "\n",
    "# Create a directory to save the individual red blood cell images\n",
    "if not os.path.exists('red'):\n",
    "    os.makedirs('red')\n",
    "\n",
    "# Save each unique red blood cell as a separate image file\n",
    "unique_cells = []\n",
    "for i, contour in enumerate(contours):\n",
    "    x, y, w, h = cv2.boundingRect(contour)\n",
    "    cell_image = image[y:y+h, x:x+w]\n",
    "    \n",
    "    # Resize the cell image to a fixed size\n",
    "    cell_image = cv2.resize(cell_image, (32, 32))\n",
    "    \n",
    "    # Check if the cell is unique by comparing it to the existing ones\n",
    "    is_unique = True\n",
    "    for existing_cell in unique_cells:\n",
    "        if cv2.absdiff(existing_cell, cell_image).sum() < 100:\n",
    "            is_unique = False\n",
    "            break\n",
    "    \n",
    "    if is_unique:\n",
    "        cv2.imwrite(f'red/cell_{len(unique_cells)+1}.jpg', cell_image)\n",
    "        unique_cells.append(cell_image)\n",
    "\n",
    "print(f\"{len(unique_cells)} unique red blood cell images saved.\")\n"
   ]
  },
  {
   "cell_type": "code",
   "execution_count": null,
   "id": "3ac1c074",
   "metadata": {},
   "outputs": [],
   "source": []
  },
  {
   "cell_type": "markdown",
   "id": "91de9c7f",
   "metadata": {},
   "source": [
    "## A  whole directory"
   ]
  },
  {
   "cell_type": "code",
   "execution_count": 8,
   "id": "f761cc0e",
   "metadata": {},
   "outputs": [
    {
     "name": "stdout",
     "output_type": "stream",
     "text": [
      "14764 red blood cell images saved from 1409191647-0004-R.jpg.\n",
      "3459 red blood cell images saved from 1704282807-0005-R.jpg.\n",
      "9761 red blood cell images saved from 1305121398-0001-R_S.jpg.\n",
      "924 red blood cell images saved from 1701151546-0007-R.jpg.\n"
     ]
    }
   ],
   "source": [
    "import cv2\n",
    "import os\n",
    "\n",
    "# Input and output directories\n",
    "input_dir = './test'  # Replace with the directory containing input images\n",
    "output_dir = './result'  # Replace with the directory to save segmented images\n",
    "\n",
    "# Create the output directory if it does not exist\n",
    "if not os.path.exists(output_dir):\n",
    "    os.makedirs(output_dir)\n",
    "\n",
    "# Process each image file in the input directory\n",
    "image_files = os.listdir(input_dir)\n",
    "for image_file in image_files:\n",
    "    # Load the image\n",
    "    image_path = os.path.join(input_dir, image_file)\n",
    "    image = cv2.imread(image_path)\n",
    "\n",
    "    # Convert the image to grayscale\n",
    "    gray = cv2.cvtColor(image, cv2.COLOR_BGR2GRAY)\n",
    "\n",
    "    # Apply thresholding to segment the red blood cells\n",
    "    _, thresh = cv2.threshold(gray, 0, 255, cv2.THRESH_BINARY_INV + cv2.THRESH_OTSU)\n",
    "\n",
    "    # Find the contours of the segmented red blood cells\n",
    "    contours, _ = cv2.findContours(thresh, cv2.RETR_EXTERNAL, cv2.CHAIN_APPROX_SIMPLE)\n",
    "\n",
    "    # Create a directory for the current image if it does not exist\n",
    "    image_output_dir = os.path.join(output_dir, image_file.split('.')[0])  # Create a subdirectory with the image file name\n",
    "    if not os.path.exists(image_output_dir):\n",
    "        os.makedirs(image_output_dir)\n",
    "\n",
    "    # Save each red blood cell as a separate image file\n",
    "    for i, contour in enumerate(contours):\n",
    "        x, y, w, h = cv2.boundingRect(contour)\n",
    "        cell_image = image[y:y+h, x:x+w]\n",
    "        cell_filename = f'cell_{i+1}.png'\n",
    "        cell_path = os.path.join(image_output_dir, cell_filename)\n",
    "        cv2.imwrite(cell_path, cell_image)\n",
    "\n",
    "    print(f\"{len(contours)} red blood cell images saved from {image_file}.\")"
   ]
  },
  {
   "cell_type": "markdown",
   "id": "8ccb9cd2",
   "metadata": {},
   "source": [
    "## Remove background"
   ]
  },
  {
   "cell_type": "code",
   "execution_count": 25,
   "id": "9dd0a240",
   "metadata": {},
   "outputs": [
    {
     "name": "stdout",
     "output_type": "stream",
     "text": [
      "2 red blood cell images saved from imaged1748_953.png.\n",
      "68 red blood cell images saved from imaged1521_513.png.\n",
      "1 red blood cell images saved from imaged1661_883.png.\n",
      "45 red blood cell images saved from imaged1675_897.png.\n",
      "2 red blood cell images saved from imaged1602_800.png.\n"
     ]
    }
   ],
   "source": [
    "import cv2\n",
    "import os\n",
    "import numpy as np\n",
    "\n",
    "# Input and output directories\n",
    "input_dir = './sss'  # Replace with the directory containing input images\n",
    "output_dir = './e3'  # Replace with the directory to save segmented images\n",
    "\n",
    "\n",
    "# Create the output directory if it does not exist\n",
    "if not os.path.exists(output_dir):\n",
    "    os.makedirs(output_dir)\n",
    "\n",
    "# Process each image file in the input directory\n",
    "image_files = os.listdir(input_dir)\n",
    "for idx, image_file in enumerate(image_files, start=1):\n",
    "    # Load the image\n",
    "    image_path = os.path.join(input_dir, image_file)\n",
    "    image = cv2.imread(image_path)\n",
    "\n",
    "    # Convert the image to grayscale\n",
    "    gray = cv2.cvtColor(image, cv2.COLOR_BGR2GRAY)\n",
    "\n",
    "    # Apply thresholding to segment the red blood cells\n",
    "    _, thresh = cv2.threshold(gray, 0, 255, cv2.THRESH_BINARY_INV + cv2.THRESH_OTSU)\n",
    "\n",
    "    # Find the contours of the segmented red blood cells\n",
    "    contours, _ = cv2.findContours(thresh, cv2.RETR_EXTERNAL, cv2.CHAIN_APPROX_SIMPLE)\n",
    "\n",
    "    # Create a black background image\n",
    "    black_bg = np.zeros_like(image)\n",
    "\n",
    "    # Save each red blood cell as a separate image file with a black background\n",
    "    for i, contour in enumerate(contours, start=1):\n",
    "        x, y, w, h = cv2.boundingRect(contour)\n",
    "        cell_image = image[y:y+h, x:x+w]\n",
    "        cell_mask = np.zeros_like(image)\n",
    "        cv2.drawContours(cell_mask, [contour], 0, (255, 255, 255), thickness=cv2.FILLED)\n",
    "        cell_mask = cv2.resize(cell_mask, (cell_image.shape[1], cell_image.shape[0]))\n",
    "        cell_image = cv2.bitwise_and(cell_image, cell_mask)\n",
    "        cell_filename = f'imagemdx_{idx}_{i:02d}.png'  # Update the filename format\n",
    "        cell_path = os.path.join(output_dir, cell_filename)\n",
    "        cv2.imwrite(cell_path, cell_image)\n",
    "\n",
    "    print(f\"{len(contours)} red blood cell images saved from {image_file}.\")"
   ]
  },
  {
   "cell_type": "markdown",
   "id": "8dbe01bb",
   "metadata": {},
   "source": [
    "## Sobel edge and background removal"
   ]
  },
  {
   "cell_type": "code",
   "execution_count": 4,
   "id": "585b021c",
   "metadata": {
    "scrolled": false
   },
   "outputs": [
    {
     "name": "stdout",
     "output_type": "stream",
     "text": [
      "6 red blood cell images saved from image6_01.png.\n",
      "2 red blood cell images saved from image39_10.png.\n",
      "1 red blood cell images saved from image1_03.png.\n",
      "1 red blood cell images saved from image9_01.png.\n",
      "1 red blood cell images saved from image12_01.png.\n",
      "2 red blood cell images saved from image27_01.png.\n",
      "1 red blood cell images saved from image22_01.png.\n",
      "1 red blood cell images saved from image21_01.png.\n",
      "10 red blood cell images saved from image19_18.png.\n",
      "2 red blood cell images saved from image4_15.png.\n",
      "1 red blood cell images saved from image26_25.png.\n",
      "1 red blood cell images saved from image40_02.png.\n",
      "3 red blood cell images saved from image38_10.png.\n",
      "1 red blood cell images saved from image36_01.png.\n",
      "1 red blood cell images saved from image31_02.png.\n",
      "1 red blood cell images saved from image42_03.png.\n",
      "1 red blood cell images saved from image5_01.png.\n",
      "1 red blood cell images saved from image8_03.png.\n",
      "1 red blood cell images saved from image20_02.png.\n",
      "1 red blood cell images saved from image2_01.png.\n",
      "1 red blood cell images saved from image16_01.png.\n",
      "1 red blood cell images saved from image25_02.png.\n",
      "1 red blood cell images saved from image29_02.png.\n",
      "10 red blood cell images saved from image11_23.png.\n",
      "2 red blood cell images saved from image15_20.png.\n",
      "1 red blood cell images saved from image37_01.png.\n",
      "2 red blood cell images saved from image7_02.png.\n",
      "1 red blood cell images saved from image32_17.png.\n",
      "1 red blood cell images saved from image17_01.png.\n",
      "1 red blood cell images saved from image13_02.png.\n",
      "1 red blood cell images saved from image28_13.png.\n",
      "2 red blood cell images saved from image3_19.png.\n",
      "2 red blood cell images saved from image41_01.png.\n",
      "1 red blood cell images saved from image24_11.png.\n"
     ]
    }
   ],
   "source": [
    "import cv2\n",
    "import os\n",
    "import numpy as np\n",
    "\n",
    "# Set the input and output directories\n",
    "input_dir = './sobel_input'\n",
    "output_dir = './sobel_output'\n",
    "\n",
    "# Create the output directory if it does not exist\n",
    "if not os.path.exists(output_dir):\n",
    "    os.makedirs(output_dir)\n",
    "\n",
    "# Process each image file in the input directory\n",
    "image_files = os.listdir(input_dir)\n",
    "for idx, image_file in enumerate(image_files, start=1):\n",
    "    # Load the image\n",
    "    image_path = os.path.join(input_dir, image_file)\n",
    "    image = cv2.imread(image_path)\n",
    "\n",
    "    # Convert the image to grayscale\n",
    "    gray = cv2.cvtColor(image, cv2.COLOR_BGR2GRAY)\n",
    "\n",
    "    # Apply Sobel edge detection\n",
    "    sobelx = cv2.Sobel(gray, cv2.CV_64F, 1, 0, ksize=3)\n",
    "    sobely = cv2.Sobel(gray, cv2.CV_64F, 0, 1, ksize=3)\n",
    "    sobel = np.sqrt(sobelx**2 + sobely**2)\n",
    "    sobel = np.uint8(sobel)\n",
    "\n",
    "    # Apply thresholding to segment the red blood cells\n",
    "    _, thresh = cv2.threshold(sobel, 0, 255, cv2.THRESH_BINARY_INV + cv2.THRESH_OTSU)\n",
    "\n",
    "    # Find the contours of the segmented red blood cells\n",
    "    contours, _ = cv2.findContours(thresh, cv2.RETR_EXTERNAL, cv2.CHAIN_APPROX_SIMPLE)\n",
    "\n",
    "    # Create a black background image\n",
    "    black_bg = np.zeros_like(image)\n",
    "\n",
    "    # Save each red blood cell as a separate image file with a black background\n",
    "    for i, contour in enumerate(contours, start=1):\n",
    "        x, y, w, h = cv2.boundingRect(contour)\n",
    "        cell_image = image[y:y+h, x:x+w]\n",
    "        cell_mask = np.zeros_like(image)\n",
    "        cv2.drawContours(cell_mask, [contour], 0, (255, 255, 255), thickness=cv2.FILLED)\n",
    "        cell_mask = cv2.resize(cell_mask, (cell_image.shape[1], cell_image.shape[0]))\n",
    "        cell_image = cv2.bitwise_and(cell_image, cell_mask)\n",
    "        cell_filename = f'image_{idx}_{i:02d}.png'\n",
    "        cell_path = os.path.join(output_dir, cell_filename)\n",
    "        cv2.imwrite(cell_path, cell_image)\n",
    "\n",
    "    print(f\"{len(contours)} red blood cell images saved from {image_file}.\")\n"
   ]
  },
  {
   "cell_type": "code",
   "execution_count": null,
   "id": "0879c106",
   "metadata": {},
   "outputs": [],
   "source": []
  },
  {
   "cell_type": "code",
   "execution_count": null,
   "id": "55befea8",
   "metadata": {},
   "outputs": [],
   "source": []
  }
 ],
 "metadata": {
  "kernelspec": {
   "display_name": "Python 3 (ipykernel)",
   "language": "python",
   "name": "python3"
  },
  "language_info": {
   "codemirror_mode": {
    "name": "ipython",
    "version": 3
   },
   "file_extension": ".py",
   "mimetype": "text/x-python",
   "name": "python",
   "nbconvert_exporter": "python",
   "pygments_lexer": "ipython3",
   "version": "3.11.5"
  }
 },
 "nbformat": 4,
 "nbformat_minor": 5
}
